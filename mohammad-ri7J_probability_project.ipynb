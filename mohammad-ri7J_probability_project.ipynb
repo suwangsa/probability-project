{
 "cells": [
  {
   "cell_type": "code",
   "execution_count": 2,
   "metadata": {},
   "outputs": [],
   "source": [
    "import numpy as np\n",
    "import pandas as pd\n",
    "import seaborn as sns\n",
    "import matplotlib.pyplot as plt\n",
    "import scipy.stats\n",
    "from scipy.stats import ttest_ind"
   ]
  },
  {
   "cell_type": "code",
   "execution_count": 3,
   "metadata": {},
   "outputs": [
    {
     "data": {
      "text/html": [
       "<div>\n",
       "<style scoped>\n",
       "    .dataframe tbody tr th:only-of-type {\n",
       "        vertical-align: middle;\n",
       "    }\n",
       "\n",
       "    .dataframe tbody tr th {\n",
       "        vertical-align: top;\n",
       "    }\n",
       "\n",
       "    .dataframe thead th {\n",
       "        text-align: right;\n",
       "    }\n",
       "</style>\n",
       "<table border=\"1\" class=\"dataframe\">\n",
       "  <thead>\n",
       "    <tr style=\"text-align: right;\">\n",
       "      <th></th>\n",
       "      <th>age</th>\n",
       "      <th>sex</th>\n",
       "      <th>bmi</th>\n",
       "      <th>children</th>\n",
       "      <th>smoker</th>\n",
       "      <th>region</th>\n",
       "      <th>charges</th>\n",
       "    </tr>\n",
       "  </thead>\n",
       "  <tbody>\n",
       "    <tr>\n",
       "      <th>0</th>\n",
       "      <td>19</td>\n",
       "      <td>female</td>\n",
       "      <td>27.900</td>\n",
       "      <td>0</td>\n",
       "      <td>yes</td>\n",
       "      <td>southwest</td>\n",
       "      <td>16884.92400</td>\n",
       "    </tr>\n",
       "    <tr>\n",
       "      <th>1</th>\n",
       "      <td>18</td>\n",
       "      <td>male</td>\n",
       "      <td>33.770</td>\n",
       "      <td>1</td>\n",
       "      <td>no</td>\n",
       "      <td>southeast</td>\n",
       "      <td>1725.55230</td>\n",
       "    </tr>\n",
       "    <tr>\n",
       "      <th>2</th>\n",
       "      <td>28</td>\n",
       "      <td>male</td>\n",
       "      <td>33.000</td>\n",
       "      <td>3</td>\n",
       "      <td>no</td>\n",
       "      <td>southeast</td>\n",
       "      <td>4449.46200</td>\n",
       "    </tr>\n",
       "    <tr>\n",
       "      <th>3</th>\n",
       "      <td>33</td>\n",
       "      <td>male</td>\n",
       "      <td>22.705</td>\n",
       "      <td>0</td>\n",
       "      <td>no</td>\n",
       "      <td>northwest</td>\n",
       "      <td>21984.47061</td>\n",
       "    </tr>\n",
       "    <tr>\n",
       "      <th>4</th>\n",
       "      <td>32</td>\n",
       "      <td>male</td>\n",
       "      <td>28.880</td>\n",
       "      <td>0</td>\n",
       "      <td>no</td>\n",
       "      <td>northwest</td>\n",
       "      <td>3866.85520</td>\n",
       "    </tr>\n",
       "  </tbody>\n",
       "</table>\n",
       "</div>"
      ],
      "text/plain": [
       "   age     sex     bmi  children smoker     region      charges\n",
       "0   19  female  27.900         0    yes  southwest  16884.92400\n",
       "1   18    male  33.770         1     no  southeast   1725.55230\n",
       "2   28    male  33.000         3     no  southeast   4449.46200\n",
       "3   33    male  22.705         0     no  northwest  21984.47061\n",
       "4   32    male  28.880         0     no  northwest   3866.85520"
      ]
     },
     "execution_count": 3,
     "metadata": {},
     "output_type": "execute_result"
    }
   ],
   "source": [
    "df = pd.read_csv(\"insurance.csv\").copy()\n",
    "df.head()"
   ]
  },
  {
   "cell_type": "code",
   "execution_count": 4,
   "metadata": {},
   "outputs": [
    {
     "data": {
      "text/plain": [
       "Index(['age', 'sex', 'bmi', 'children', 'smoker', 'region', 'charges'], dtype='object')"
      ]
     },
     "execution_count": 4,
     "metadata": {},
     "output_type": "execute_result"
    }
   ],
   "source": [
    "df.columns"
   ]
  },
  {
   "cell_type": "code",
   "execution_count": 5,
   "metadata": {},
   "outputs": [
    {
     "name": "stdout",
     "output_type": "stream",
     "text": [
      "<class 'pandas.core.frame.DataFrame'>\n",
      "RangeIndex: 1338 entries, 0 to 1337\n",
      "Data columns (total 7 columns):\n",
      " #   Column    Non-Null Count  Dtype  \n",
      "---  ------    --------------  -----  \n",
      " 0   age       1338 non-null   int64  \n",
      " 1   sex       1338 non-null   object \n",
      " 2   bmi       1338 non-null   float64\n",
      " 3   children  1338 non-null   int64  \n",
      " 4   smoker    1338 non-null   object \n",
      " 5   region    1338 non-null   object \n",
      " 6   charges   1338 non-null   float64\n",
      "dtypes: float64(2), int64(2), object(3)\n",
      "memory usage: 73.3+ KB\n"
     ]
    }
   ],
   "source": [
    "df.info()"
   ]
  },
  {
   "cell_type": "code",
   "execution_count": 6,
   "metadata": {},
   "outputs": [
    {
     "data": {
      "text/html": [
       "<div>\n",
       "<style scoped>\n",
       "    .dataframe tbody tr th:only-of-type {\n",
       "        vertical-align: middle;\n",
       "    }\n",
       "\n",
       "    .dataframe tbody tr th {\n",
       "        vertical-align: top;\n",
       "    }\n",
       "\n",
       "    .dataframe thead th {\n",
       "        text-align: right;\n",
       "    }\n",
       "</style>\n",
       "<table border=\"1\" class=\"dataframe\">\n",
       "  <thead>\n",
       "    <tr style=\"text-align: right;\">\n",
       "      <th></th>\n",
       "      <th>age</th>\n",
       "      <th>bmi</th>\n",
       "      <th>children</th>\n",
       "      <th>charges</th>\n",
       "    </tr>\n",
       "  </thead>\n",
       "  <tbody>\n",
       "    <tr>\n",
       "      <th>count</th>\n",
       "      <td>1338.000000</td>\n",
       "      <td>1338.000000</td>\n",
       "      <td>1338.000000</td>\n",
       "      <td>1338.000000</td>\n",
       "    </tr>\n",
       "    <tr>\n",
       "      <th>mean</th>\n",
       "      <td>39.207025</td>\n",
       "      <td>30.663397</td>\n",
       "      <td>1.094918</td>\n",
       "      <td>13270.422265</td>\n",
       "    </tr>\n",
       "    <tr>\n",
       "      <th>std</th>\n",
       "      <td>14.049960</td>\n",
       "      <td>6.098187</td>\n",
       "      <td>1.205493</td>\n",
       "      <td>12110.011237</td>\n",
       "    </tr>\n",
       "    <tr>\n",
       "      <th>min</th>\n",
       "      <td>18.000000</td>\n",
       "      <td>15.960000</td>\n",
       "      <td>0.000000</td>\n",
       "      <td>1121.873900</td>\n",
       "    </tr>\n",
       "    <tr>\n",
       "      <th>25%</th>\n",
       "      <td>27.000000</td>\n",
       "      <td>26.296250</td>\n",
       "      <td>0.000000</td>\n",
       "      <td>4740.287150</td>\n",
       "    </tr>\n",
       "    <tr>\n",
       "      <th>50%</th>\n",
       "      <td>39.000000</td>\n",
       "      <td>30.400000</td>\n",
       "      <td>1.000000</td>\n",
       "      <td>9382.033000</td>\n",
       "    </tr>\n",
       "    <tr>\n",
       "      <th>75%</th>\n",
       "      <td>51.000000</td>\n",
       "      <td>34.693750</td>\n",
       "      <td>2.000000</td>\n",
       "      <td>16639.912515</td>\n",
       "    </tr>\n",
       "    <tr>\n",
       "      <th>max</th>\n",
       "      <td>64.000000</td>\n",
       "      <td>53.130000</td>\n",
       "      <td>5.000000</td>\n",
       "      <td>63770.428010</td>\n",
       "    </tr>\n",
       "  </tbody>\n",
       "</table>\n",
       "</div>"
      ],
      "text/plain": [
       "               age          bmi     children       charges\n",
       "count  1338.000000  1338.000000  1338.000000   1338.000000\n",
       "mean     39.207025    30.663397     1.094918  13270.422265\n",
       "std      14.049960     6.098187     1.205493  12110.011237\n",
       "min      18.000000    15.960000     0.000000   1121.873900\n",
       "25%      27.000000    26.296250     0.000000   4740.287150\n",
       "50%      39.000000    30.400000     1.000000   9382.033000\n",
       "75%      51.000000    34.693750     2.000000  16639.912515\n",
       "max      64.000000    53.130000     5.000000  63770.428010"
      ]
     },
     "execution_count": 6,
     "metadata": {},
     "output_type": "execute_result"
    }
   ],
   "source": [
    "df.describe()"
   ]
  },
  {
   "cell_type": "code",
   "execution_count": 7,
   "metadata": {},
   "outputs": [
    {
     "data": {
      "text/html": [
       "<div>\n",
       "<style scoped>\n",
       "    .dataframe tbody tr th:only-of-type {\n",
       "        vertical-align: middle;\n",
       "    }\n",
       "\n",
       "    .dataframe tbody tr th {\n",
       "        vertical-align: top;\n",
       "    }\n",
       "\n",
       "    .dataframe thead th {\n",
       "        text-align: right;\n",
       "    }\n",
       "</style>\n",
       "<table border=\"1\" class=\"dataframe\">\n",
       "  <thead>\n",
       "    <tr style=\"text-align: right;\">\n",
       "      <th></th>\n",
       "      <th>sex</th>\n",
       "      <th>smoker</th>\n",
       "      <th>region</th>\n",
       "    </tr>\n",
       "  </thead>\n",
       "  <tbody>\n",
       "    <tr>\n",
       "      <th>count</th>\n",
       "      <td>1338</td>\n",
       "      <td>1338</td>\n",
       "      <td>1338</td>\n",
       "    </tr>\n",
       "    <tr>\n",
       "      <th>unique</th>\n",
       "      <td>2</td>\n",
       "      <td>2</td>\n",
       "      <td>4</td>\n",
       "    </tr>\n",
       "    <tr>\n",
       "      <th>top</th>\n",
       "      <td>male</td>\n",
       "      <td>no</td>\n",
       "      <td>southeast</td>\n",
       "    </tr>\n",
       "    <tr>\n",
       "      <th>freq</th>\n",
       "      <td>676</td>\n",
       "      <td>1064</td>\n",
       "      <td>364</td>\n",
       "    </tr>\n",
       "  </tbody>\n",
       "</table>\n",
       "</div>"
      ],
      "text/plain": [
       "         sex smoker     region\n",
       "count   1338   1338       1338\n",
       "unique     2      2          4\n",
       "top     male     no  southeast\n",
       "freq     676   1064        364"
      ]
     },
     "execution_count": 7,
     "metadata": {},
     "output_type": "execute_result"
    }
   ],
   "source": [
    "df.describe(exclude=\"number\")"
   ]
  },
  {
   "cell_type": "markdown",
   "metadata": {},
   "source": [
    "Langkah #1 - Analisa Descriptive Statistic\n",
    "---\n",
    "Kita awali proses analisa ini dengan hal yang paling dasar, yakni merangkum karakter-karakter\n",
    "berdasarkan data seperti mencari rata-rata & persebaran data. Anda bisa memilih 5 pertanyaan\n",
    "dibawah ini untuk melakukan eksplorasi data. Beberapa hal yang dapat Anda jawab adalah\n",
    "\n",
    "1. Rata-rata umur pengguna\n",
    "2. Rata-rata nilai BMI dari pengguna yang merokok\n",
    "3. Berapa rata rata umur pada data tersebut?\n",
    "4. Berapa rata rata nilai BMI dari yang merokok?\n",
    "5. Apakah variansi dari data charges perokok dan non perokok sama?\n",
    "6. Apakah rata rata umur perempuan dan laki-laki yang merokok sama?\n",
    "7. Mana yang lebih tinggi, rata rata tagihan kesehatan perokok atau non merokok?\n",
    "8. Mana yang lebih tinggi, rata rata tagihan kesehatan perokok yang BMI nya diatas 25 atau non perokok yang BMI nya diatas 25\n",
    "9. BMI mana yang lebih tinggi, seseorang laki-laki atau perempuan?\n",
    "10. BMI mana yang lebih tinggi, seseorang perokok atau non perokok?"
   ]
  },
  {
   "cell_type": "code",
   "execution_count": 52,
   "metadata": {},
   "outputs": [
    {
     "name": "stdout",
     "output_type": "stream",
     "text": [
      "Rata-rata nilai BMI dari pengguna yang merokok adalah 31, dan Rata-rata umurnya adalah 39 tahun\n"
     ]
    }
   ],
   "source": [
    "# Rata-rata nilai BMI dari pengguna yang merokok\n",
    "smoker = df[df['smoker']=='yes']\n",
    "non_smoker = df[df['smoker']=='no']\n",
    "\n",
    "avg_all = np.mean(df['age'])\n",
    "bmi_s = np.mean(smoker['bmi'])\n",
    "age_s = np.mean(smoker['age'])\n",
    "\n",
    "print('Rata-rata nilai BMI dari pengguna yang merokok adalah %.0f tahun, dan Rata-rata umurnya adalah %.0f tahun' % (bmi_s,age_s)) "
   ]
  },
  {
   "cell_type": "code",
   "execution_count": 60,
   "metadata": {},
   "outputs": [
    {
     "name": "stdout",
     "output_type": "stream",
     "text": [
      "Rata-rata angka BMI dari pengguna yang merokok adalah 30.7, sedangkan yang tidak merokok adalah 30.7 tahun\n",
      "\n",
      "Variansi data tagihan pengguna yang merokok adalah 132721153, sedangkan yang tidak merokok adalah 35891656\n",
      "\n",
      "Rata-rata tagihan kesahatan perokok dengan BMI diatas 25 adalah 35117, lebih tinggi dari yang tidak merokok yaitu 8630\n"
     ]
    }
   ],
   "source": [
    "# Apakah variansi dari data charges perokok dan non perokok sama?\n",
    "var_s = np.var(smoker['charges'])\n",
    "var_ns = np.var(non_smoker['charges'])\n",
    "\n",
    "mean_s = np.mean(smoker['charges'])\n",
    "mean_ns = np.mean(non_smoker['charges'])\n",
    "\n",
    "mean_s_high_bmi = np.mean(smoker[smoker['bmi']>25]['charges'])\n",
    "mean_ns_high_bmi = np.mean(non_smoker[non_smoker['bmi']>25]['charges'])\n",
    "\n",
    "bmi_s = np.mean(smoker['bmi'])\n",
    "bmi_ns = np.mean(non_smoker['bmi'])\n",
    "\n",
    "print('Rata-rata angka BMI dari pengguna yang merokok adalah %.1f, sedangkan yang tidak merokok adalah %.1f tahun' % (bmi_s,bmi_ns))\n",
    "print()\n",
    "print('Variansi data tagihan pengguna yang merokok adalah %.0f, sedangkan yang tidak merokok adalah %.0f' % (var_s,var_ns))\n",
    "print()\n",
    "print('Rata-rata tagihan kesahatan perokok dengan BMI diatas 25 adalah %.0f, lebih tinggi dari yang tidak merokok yaitu %.0f' % (mean_s_high_bmi,mean_ns_high_bmi))"
   ]
  },
  {
   "cell_type": "code",
   "execution_count": 62,
   "metadata": {},
   "outputs": [
    {
     "name": "stdout",
     "output_type": "stream",
     "text": [
      "Rata-rata umur pengguna perempuan yang merokok adalah 38.6 tahun, sedangkan pengguna laki-laki perokok adalah 38.4 tahun\n",
      "\n",
      "Rata-rata angka BMI dari pengguna perempuan yang merokok adalah 30.4, lebih rendah dari yang laki-laki, yaitu 30.9\n",
      "\n"
     ]
    }
   ],
   "source": [
    "# Apakah rata rata umur perempuan dan laki-laki yang merokok sama?\n",
    "avg_age_m = smoker[smoker['sex']=='male']['age'].mean()\n",
    "avg_age_f = smoker[smoker['sex']=='female']['age'].mean()\n",
    "\n",
    "avg_bmi_m_all = df[df['sex']=='male']['bmi'].mean()\n",
    "avg_bmi_f_all = df[df['sex']=='female']['bmi'].mean()\n",
    "\n",
    "print('Rata-rata umur pengguna perempuan yang merokok adalah %.1f tahun, sedangkan pengguna laki-laki perokok adalah %.1f tahun' % (avg_age_f,avg_age_m))\n",
    "print()\n",
    "print('Rata-rata angka BMI dari pengguna perempuan yang merokok adalah %.1f, lebih rendah dari yang laki-laki, yaitu %.1f' % (avg_bmi_f_all,avg_bmi_m_all))\n",
    "print()"
   ]
  },
  {
   "cell_type": "markdown",
   "metadata": {},
   "source": [
    "Langkah #2 - Analisa Variabel Kategorik (PMF)\n",
    "---\n",
    "Selanjutnya, untuk memperdalam analisa, Anda dapat mengidentifikasi peluang kondisi tertentu\n",
    "yang berpotensi memiliki besaran tagihan kesehatan tertentu. Anda bisa memilih 5 pertanyaan\n",
    "dibawah ini untuk pengecekan kondisi pada data. Beberapa hal yang dapat Anda jawab adalah\n",
    "\n",
    "1. Gender mana yang memiliki tagihan paling tinggi?\n",
    "2. Distribusi peluang tagihan di tiap-tiap region\n",
    "3. Apakah setiap region memiliki proporsi data banyak orang yang sama?\n",
    "4. Mana yang lebih tinggi proporsi perokok atau non perokok?\n",
    "5. Berapa peluang seseorang tersebut adalah perempuan diketahui dia adalah perokok?\n",
    "6. Berapa peluang seseorang tersebut adalah laki-laki diketahui dia adalah perokok?\n",
    "7. Bagaimana bentuk distribusi peluang besar tagihan dari tiap-tiap region?"
   ]
  },
  {
   "cell_type": "code",
   "execution_count": 72,
   "metadata": {},
   "outputs": [],
   "source": [
    "# Gender mana yang memiliki tagihan paling tinggi?\n",
    "# Distribusi peluang tagihan di tiap-tiap region\n",
    "\n",
    "charge_by_region = pd.DataFrame(df.groupby('region')['charges'].sum().reset_index())\n",
    "\n",
    "charge_by_region['percentage']=charge_by_region['charges']/(charge_by_region['charges'].sum())\n",
    "\n",
    "charge_by_sex = pd.DataFrame(df.groupby('sex')['charges'].sum().reset_index().sort_values(by=['charges'],ascending=False))\n",
    "\n",
    "charge_by_sex['percentage']=charge_by_sex['charges']/(charge_by_sex['charges'].sum())\n",
    "\n",
    "# Apakah setiap region memiliki proporsi data banyak orang yang sama?\n",
    "\n",
    "user_by_region = pd.DataFrame(df.groupby('region')['charges'].count().reset_index().rename(columns={'charges':'user'}))\n",
    "\n",
    "user_by_region['percentage']=user_by_region['user']/df.shape[0]\n"
   ]
  },
  {
   "cell_type": "code",
   "execution_count": 73,
   "metadata": {},
   "outputs": [
    {
     "data": {
      "text/html": [
       "<div>\n",
       "<style scoped>\n",
       "    .dataframe tbody tr th:only-of-type {\n",
       "        vertical-align: middle;\n",
       "    }\n",
       "\n",
       "    .dataframe tbody tr th {\n",
       "        vertical-align: top;\n",
       "    }\n",
       "\n",
       "    .dataframe thead th {\n",
       "        text-align: right;\n",
       "    }\n",
       "</style>\n",
       "<table border=\"1\" class=\"dataframe\">\n",
       "  <thead>\n",
       "    <tr style=\"text-align: right;\">\n",
       "      <th></th>\n",
       "      <th>region</th>\n",
       "      <th>user</th>\n",
       "      <th>percentage</th>\n",
       "    </tr>\n",
       "  </thead>\n",
       "  <tbody>\n",
       "    <tr>\n",
       "      <th>0</th>\n",
       "      <td>northeast</td>\n",
       "      <td>324</td>\n",
       "      <td>0.242152</td>\n",
       "    </tr>\n",
       "    <tr>\n",
       "      <th>1</th>\n",
       "      <td>northwest</td>\n",
       "      <td>325</td>\n",
       "      <td>0.242900</td>\n",
       "    </tr>\n",
       "    <tr>\n",
       "      <th>2</th>\n",
       "      <td>southeast</td>\n",
       "      <td>364</td>\n",
       "      <td>0.272048</td>\n",
       "    </tr>\n",
       "    <tr>\n",
       "      <th>3</th>\n",
       "      <td>southwest</td>\n",
       "      <td>325</td>\n",
       "      <td>0.242900</td>\n",
       "    </tr>\n",
       "  </tbody>\n",
       "</table>\n",
       "</div>"
      ],
      "text/plain": [
       "      region  user  percentage\n",
       "0  northeast   324    0.242152\n",
       "1  northwest   325    0.242900\n",
       "2  southeast   364    0.272048\n",
       "3  southwest   325    0.242900"
      ]
     },
     "execution_count": 73,
     "metadata": {},
     "output_type": "execute_result"
    }
   ],
   "source": [
    "user_by_region"
   ]
  },
  {
   "cell_type": "code",
   "execution_count": 74,
   "metadata": {},
   "outputs": [
    {
     "data": {
      "text/html": [
       "<div>\n",
       "<style scoped>\n",
       "    .dataframe tbody tr th:only-of-type {\n",
       "        vertical-align: middle;\n",
       "    }\n",
       "\n",
       "    .dataframe tbody tr th {\n",
       "        vertical-align: top;\n",
       "    }\n",
       "\n",
       "    .dataframe thead th {\n",
       "        text-align: right;\n",
       "    }\n",
       "</style>\n",
       "<table border=\"1\" class=\"dataframe\">\n",
       "  <thead>\n",
       "    <tr style=\"text-align: right;\">\n",
       "      <th></th>\n",
       "      <th>region</th>\n",
       "      <th>charges</th>\n",
       "      <th>percentage</th>\n",
       "    </tr>\n",
       "  </thead>\n",
       "  <tbody>\n",
       "    <tr>\n",
       "      <th>0</th>\n",
       "      <td>northeast</td>\n",
       "      <td>4.343669e+06</td>\n",
       "      <td>0.244633</td>\n",
       "    </tr>\n",
       "    <tr>\n",
       "      <th>1</th>\n",
       "      <td>northwest</td>\n",
       "      <td>4.035712e+06</td>\n",
       "      <td>0.227289</td>\n",
       "    </tr>\n",
       "    <tr>\n",
       "      <th>2</th>\n",
       "      <td>southeast</td>\n",
       "      <td>5.363690e+06</td>\n",
       "      <td>0.302081</td>\n",
       "    </tr>\n",
       "    <tr>\n",
       "      <th>3</th>\n",
       "      <td>southwest</td>\n",
       "      <td>4.012755e+06</td>\n",
       "      <td>0.225997</td>\n",
       "    </tr>\n",
       "  </tbody>\n",
       "</table>\n",
       "</div>"
      ],
      "text/plain": [
       "      region       charges  percentage\n",
       "0  northeast  4.343669e+06    0.244633\n",
       "1  northwest  4.035712e+06    0.227289\n",
       "2  southeast  5.363690e+06    0.302081\n",
       "3  southwest  4.012755e+06    0.225997"
      ]
     },
     "execution_count": 74,
     "metadata": {},
     "output_type": "execute_result"
    }
   ],
   "source": [
    "charge_by_region"
   ]
  },
  {
   "cell_type": "code",
   "execution_count": 75,
   "metadata": {},
   "outputs": [
    {
     "data": {
      "text/html": [
       "<div>\n",
       "<style scoped>\n",
       "    .dataframe tbody tr th:only-of-type {\n",
       "        vertical-align: middle;\n",
       "    }\n",
       "\n",
       "    .dataframe tbody tr th {\n",
       "        vertical-align: top;\n",
       "    }\n",
       "\n",
       "    .dataframe thead th {\n",
       "        text-align: right;\n",
       "    }\n",
       "</style>\n",
       "<table border=\"1\" class=\"dataframe\">\n",
       "  <thead>\n",
       "    <tr style=\"text-align: right;\">\n",
       "      <th></th>\n",
       "      <th>sex</th>\n",
       "      <th>charges</th>\n",
       "      <th>percentage</th>\n",
       "    </tr>\n",
       "  </thead>\n",
       "  <tbody>\n",
       "    <tr>\n",
       "      <th>1</th>\n",
       "      <td>male</td>\n",
       "      <td>9.434764e+06</td>\n",
       "      <td>0.531362</td>\n",
       "    </tr>\n",
       "    <tr>\n",
       "      <th>0</th>\n",
       "      <td>female</td>\n",
       "      <td>8.321061e+06</td>\n",
       "      <td>0.468638</td>\n",
       "    </tr>\n",
       "  </tbody>\n",
       "</table>\n",
       "</div>"
      ],
      "text/plain": [
       "      sex       charges  percentage\n",
       "1    male  9.434764e+06    0.531362\n",
       "0  female  8.321061e+06    0.468638"
      ]
     },
     "execution_count": 75,
     "metadata": {},
     "output_type": "execute_result"
    }
   ],
   "source": [
    "charge_by_sex"
   ]
  },
  {
   "cell_type": "code",
   "execution_count": 15,
   "metadata": {},
   "outputs": [],
   "source": [
    "# Mana yang lebih tinggi proporsi perokok atau non perokok?\n",
    "p_smoker = len(smoker)/len(df)\n",
    "p_non_smoker = len(non_smoker)/len(df)\n"
   ]
  },
  {
   "cell_type": "code",
   "execution_count": 16,
   "metadata": {},
   "outputs": [
    {
     "data": {
      "text/plain": [
       "0.7952167414050823"
      ]
     },
     "execution_count": 16,
     "metadata": {},
     "output_type": "execute_result"
    }
   ],
   "source": [
    "p_non_smoker"
   ]
  },
  {
   "cell_type": "code",
   "execution_count": 17,
   "metadata": {},
   "outputs": [
    {
     "data": {
      "text/plain": [
       "0.20478325859491778"
      ]
     },
     "execution_count": 17,
     "metadata": {},
     "output_type": "execute_result"
    }
   ],
   "source": [
    "p_smoker"
   ]
  },
  {
   "cell_type": "code",
   "execution_count": 18,
   "metadata": {},
   "outputs": [],
   "source": [
    "# Berapa peluang seseorang tersebut adalah perempuan diketahui dia adalah perokok?\n",
    "\n",
    "# Berapa peluang seseorang tersebut adalah laki-laki diketahui dia adalah perokok?\n",
    "\n",
    "smoker_sex = df.groupby(['smoker','sex'])['charges'].count().reset_index()\n",
    "\n",
    "sample_space = smoker_sex.iloc[:,-1].sum()\n",
    "\n",
    "smoker = smoker_sex[smoker_sex['smoker'] == 'yes'].iloc[:,-1].sum()\n",
    "\n",
    "femme_smoker = smoker_sex[(smoker_sex['sex'] == 'female')&(smoker_sex['smoker'] == 'yes')].iloc[:,-1].sum()\n",
    "\n",
    "male_smoker = smoker_sex[(smoker_sex['sex'] == 'male')&(smoker_sex['smoker'] == 'yes')].iloc[:,-1].sum()\n",
    "\n",
    "p_femme_smoker = femme_smoker/smoker\n",
    "p_male_smoker = male_smoker/smoker"
   ]
  },
  {
   "cell_type": "code",
   "execution_count": 19,
   "metadata": {},
   "outputs": [
    {
     "data": {
      "text/plain": [
       "0.4197080291970803"
      ]
     },
     "execution_count": 19,
     "metadata": {},
     "output_type": "execute_result"
    }
   ],
   "source": [
    "p_femme_smoker"
   ]
  },
  {
   "cell_type": "code",
   "execution_count": 20,
   "metadata": {},
   "outputs": [
    {
     "data": {
      "text/plain": [
       "0.5802919708029197"
      ]
     },
     "execution_count": 20,
     "metadata": {},
     "output_type": "execute_result"
    }
   ],
   "source": [
    "p_male_smoker"
   ]
  },
  {
   "cell_type": "markdown",
   "metadata": {},
   "source": [
    "Langkah #3 - Analisa Variabel Kontinu\n",
    "---\n",
    "Variabel dalam data yang kita punya tidak semuanya berbentuk kategorik, untuk memahami\n",
    "kemungkinan kondisi variabel bernilai kontinu terhadap tagihan kesehatan, kita bisa melakukan\n",
    "analisa pada data tersebut. Anda bisa memilih 2 pertanyaan dibawah ini untuk pengecekan\n",
    "kondisi pada data.\n",
    "1. Mana yang lebih mungkin terjadi\n",
    "    - a. Seseorang dengan BMI diatas 25 mendapatkan tagihan kesehatan diatas 16.7k, atau\n",
    "    - b. Seseorang dengan BMI dibawah 25 mendapatkan tagihan kesehatan diatas 16.7k\n",
    "2. Mana yang lebih mungkin terjadi\n",
    "    - a. Seseorang perokok dengan BMI diatas 25 mendapatkan tagihan kesehatan diatas 16.7k, atau\n",
    "    - b. Seseorang non perokok dengan BMI diatas 25 mendapatkan tagihan kesehatan diatas 16.7k\n",
    "\n",
    "Note: Anda dibebaskan memilih cara untuk menghitung peluang baik menggunakan asumsi distribusi atau\n",
    "menggunakan pendekatan diskrit (binning interval pada variabel kontinu)."
   ]
  },
  {
   "cell_type": "code",
   "execution_count": 21,
   "metadata": {},
   "outputs": [
    {
     "data": {
      "text/plain": [
       "37.16008997478835"
      ]
     },
     "execution_count": 21,
     "metadata": {},
     "output_type": "execute_result"
    }
   ],
   "source": [
    "bmi=np.array(df['bmi'])\n",
    "bmi.mean()\n",
    "bmi.var()"
   ]
  },
  {
   "cell_type": "code",
   "execution_count": 22,
   "metadata": {},
   "outputs": [
    {
     "name": "stderr",
     "output_type": "stream",
     "text": [
      "c:\\Users\\msing\\AppData\\Local\\Programs\\Python\\Python39\\lib\\site-packages\\seaborn-0.11.0-py3.9.egg\\seaborn\\distributions.py:2551: FutureWarning: `distplot` is a deprecated function and will be removed in a future version. Please adapt your code to use either `displot` (a figure-level function with similar flexibility) or `histplot` (an axes-level function for histograms).\n",
      "  warnings.warn(msg, FutureWarning)\n"
     ]
    },
    {
     "data": {
      "image/png": "[encoded data removed]",
      "text/plain": [
       "<Figure size 432x288 with 1 Axes>"
      ]
     },
     "metadata": {
      "needs_background": "light"
     },
     "output_type": "display_data"
    }
   ],
   "source": [
    "sns.distplot(df['charges'], axlabel='Charges', kde=True)\n",
    "plt.show()"
   ]
  },
  {
   "cell_type": "code",
   "execution_count": 78,
   "metadata": {},
   "outputs": [
    {
     "name": "stdout",
     "output_type": "stream",
     "text": [
      "Seseorang perokok dengan BMI diatas 25 mendapatkan tagihan kesehatan diatas 16.7k(Skenario A)\n"
     ]
    }
   ],
   "source": [
    "# 1.a.\n",
    "# B = BMI > 25\n",
    "# A = Charge > 16,700\n",
    "# P(A|B) = P(A & B)/P(B)\n",
    "\n",
    "sample_space = len(df)\n",
    "\n",
    "bmi_threshold = 25\n",
    "P_B = len(df[df['bmi']>bmi_threshold])/sample_space\n",
    "cond_lower_bmi = df[df['bmi']<bmi_threshold]\n",
    "\n",
    "charge_threshold = 16700\n",
    "P_A = len(df[df['charges']>charge_threshold])/sample_space\n",
    "# P_AnB = P_A*P_B\n",
    "P_AnB = len(df[(df['charges']>charge_threshold)&(df['bmi']>bmi_threshold)])/sample_space\n",
    "\n",
    "P_AB = P_AnB/P_B\n",
    "P_AB\n",
    "\n",
    "# 1.b.\n",
    "# B2 = BMI < 25 \n",
    "# P(B2) = 1-P(B)\n",
    "# A = Charge > 16,700\n",
    "# P(A|B2) = P(A & B2)/P(B2)\n",
    "\n",
    "P_B2 = 1-P_B\n",
    "P_AnB2 = len(df[(df['charges']>charge_threshold)&(df['bmi']<bmi_threshold)])/sample_space \n",
    "\n",
    "P_AB2 = P_AnB2/P_B2\n",
    "\n",
    "if P_AB>P_AB2:\n",
    "    print('Seseorang dengan BMI diatas 25 mendapatkan tagihan kesehatan diatas 16.7k lebih mungkin terjadi (Skenario A)')\n",
    "else:\n",
    "    print('Seseorang dengan BMI dibawah 25 mendapatkan tagihan kesehatan diatas 16.7k lebih mungkin terjadi (Skenario B)')"
   ]
  },
  {
   "cell_type": "code",
   "execution_count": 79,
   "metadata": {},
   "outputs": [
    {
     "name": "stdout",
     "output_type": "stream",
     "text": [
      "Skenario A dan Skenario B memiliki peluang sama\n"
     ]
    }
   ],
   "source": [
    "# - a. Seseorang perokok dengan BMI diatas 25 \n",
    "# mendapatkan tagihan kesehatan diatas 16.7k, atau\n",
    "\n",
    "# - b. Seseorang non perokok dengan BMI diatas 25 \n",
    "# mendapatkan tagihan kesehatan diatas 16.7k\n",
    "\n",
    "# A = Charge > 16,700\n",
    "# B = BMI > 25\n",
    "# C = perokok\n",
    "P_A = P_A\n",
    "P_B = P_B\n",
    "P_AnB = P_AnB\n",
    "P_AB = P_AnB/P_B\n",
    "P_C = p_smoker\n",
    "\n",
    "# P((A|B)|C) = P(A & B & C)/P(B & C)\n",
    "P_AnBnC = P_AnB * P_C\n",
    "P_BnC = P_B * P_C\n",
    "P_ABC = P_AnBnC/P_BnC\n",
    "\n",
    "# C2 = non-perokok \n",
    "# P((A|B)|C2) = P(A & B & C2)/P(B & C2)\n",
    "P_C2 = 1-P_C\n",
    "P_AnBnC2 = P_AnB * P_C2\n",
    "P_BnC2 = P_B * P_C2\n",
    "P_ABC2 = P_AnBnC2/P_BnC2\n",
    "\n",
    "if P_ABC>P_ABC2:\n",
    "    print('Seseorang perokok dengan BMI diatas 25 mendapatkan tagihan kesehatan diatas 16.7k (Skenario A)')\n",
    "elif P_ABC2>P_ABC:\n",
    "    print('Seseorang non-perokok dengan BMI diatas 25 mendapatkan tagihan kesehatan diatas 16.7k (Skenario B)')\n",
    "else:\n",
    "    print('Skenario A dan Skenario B memiliki peluang sama')"
   ]
  },
  {
   "cell_type": "markdown",
   "metadata": {},
   "source": [
    "Langkah #4 - Analisa Korelasi Variabel\n",
    "---\n",
    "Setelah menjawab kondisi-kondisi yang lebih mungkin memiliki tagihan kesehatan yang tinggi\n",
    "dari langkah sebelumnya. Kita juga dapat mencari keterhubungan antara kondisi-kondisi\n",
    "tersebut dengan tagihan kesehatan. Analisa korelasi akan diperlukan disini. Anda bisa memilih\n",
    "mengecek korelasi tagihan kesehatan minimal dengan 2 variabel lainnya."
   ]
  },
  {
   "cell_type": "code",
   "execution_count": 27,
   "metadata": {},
   "outputs": [
    {
     "data": {
      "image/png": "[encoded data removed]",
      "text/plain": [
       "<Figure size 1080x1080 with 2 Axes>"
      ]
     },
     "metadata": {
      "needs_background": "light"
     },
     "output_type": "display_data"
    }
   ],
   "source": [
    "# Computes feature correlation\n",
    "df_corr = df.corr()\n",
    "\n",
    "# Plot correlation matrix\n",
    "plt.figure(figsize=(15, 15))\n",
    "sns.heatmap(df_corr, mask=np.eye(len(df_corr)), square=True,\n",
    "            center=0, fmt='', linewidths=1,\n",
    "            cmap=\"vlag\", cbar_kws={\"shrink\": 0.8});"
   ]
  },
  {
   "cell_type": "markdown",
   "metadata": {},
   "source": [
    "Langkah #5 - Pengujian Hipotesis\n",
    "---\n",
    "Langkah terakhir, kita cari apakah ada bukti statistik yang cukup terhadap klaim atau hipotesis\n",
    "tentang tagihan kesehatan. Anda bisa mengecek 3 hipotesis tentang karakter populasi dari\n",
    "data. Hipotesis bisa anda pilih adalah\n",
    "1. Tagihan kesehatan perokok lebih tinggi daripada tagihan kesehatan non perokok\n",
    "2. Proporsi perokok laki laki lebih besar dari perempuan\n",
    "3. Variansi tagihan kesehatan perokok dan non perokok sama\n",
    "4. Tagihan kesehatan dengan BMI diatas 25 lebih tinggi daripada tagihan kesehatan\n",
    "dengan BMI dibawah 25\n",
    "5. Tagihan kesehatan laki-laki lebih besar dari perempuan"
   ]
  },
  {
   "cell_type": "markdown",
   "metadata": {},
   "source": [
    "$$H_0: \\mu_{smoker} >= \\mu_{non-smoker}$$\n",
    "$$H_1: \\mu_{smoker} < \\mu_{non-smoker}$$"
   ]
  },
  {
   "cell_type": "code",
   "execution_count": 39,
   "metadata": {},
   "outputs": [
    {
     "name": "stdout",
     "output_type": "stream",
     "text": [
      "Statistics = 32.7519, p-value = 1.0000\n",
      "Two group means are equal (Gagal tolak H0)\n"
     ]
    }
   ],
   "source": [
    "# 1. Tagihan kesehatan perokok lebih tinggi daripada tagihan kesehatan non perokok\n",
    "smoker = np.array(df[df['smoker']=='yes']['charges'])\n",
    "non_smoker = np.array(df[df['smoker']=='no']['charges'])\n",
    "alpha = 0.05\n",
    "\n",
    "from scipy.stats import ttest_ind\n",
    "\n",
    "stat, p = ttest_ind(a = smoker, b = non_smoker, equal_var=False, alternative='less')\n",
    "\n",
    "# Interpretasi Hasil\n",
    "print('Statistics = %.4f, p-value = %.4f' % (stat, p)) \n",
    "\n",
    "# Pengambilan Keputusan\n",
    "if p > alpha:\n",
    "    print('Two group means are equal (Gagal tolak H0)') \n",
    "else:\n",
    "    print('Two group means are different (Tolak H0)')"
   ]
  },
  {
   "cell_type": "code",
   "execution_count": 41,
   "metadata": {},
   "outputs": [],
   "source": [
    "# 2. Proporsi perokok laki laki lebih besar dari perempuan\n",
    "# H0 = P_1 <= P_2\n",
    "# Ha = P_1 > P_2\n",
    "x_1 = male_smoker\n",
    "x_2 = femme_smoker\n",
    "\n",
    "femme = len(df[df['sex'] == 'female'])\n",
    "male = len(df[df['sex'] == 'male'])\n",
    "\n",
    "n_1 = male\n",
    "n_2 = femme\n",
    "\n",
    "P_1 = male_smoker/male\n",
    "P_2 = femme_smoker/femme\n",
    "\n",
    "P_hat = (x_1+x_2)/(n_1+n_2)\n",
    "z = (P_1-P_2)/np.sqrt(P_hat*(1-P_hat)*((1/n_1)+(1/n_2)))\n",
    "\n",
    "#find Z critical value\n",
    "alpha = .05\n",
    "z_crit = scipy.stats.norm.ppf(1-alpha)\n",
    "\n",
    "# find P Value\n",
    "P_value = scipy.stats.norm.sf(abs(z))\n",
    "\n",
    "#tolak H0"
   ]
  },
  {
   "cell_type": "markdown",
   "metadata": {},
   "source": [
    "$$H_0: \\mu_{male} >= \\mu_{female}$$\n",
    "$$H_1: \\mu_{male} < \\mu_{female}$$"
   ]
  },
  {
   "cell_type": "code",
   "execution_count": 46,
   "metadata": {},
   "outputs": [
    {
     "data": {
      "text/plain": [
       "167998626.43422312"
      ]
     },
     "execution_count": 46,
     "metadata": {},
     "output_type": "execute_result"
    }
   ],
   "source": []
  },
  {
   "cell_type": "code",
   "execution_count": 48,
   "metadata": {},
   "outputs": [
    {
     "name": "stdout",
     "output_type": "stream",
     "text": [
      "Statistics = 2.1009, p-value = 0.9821\n",
      "Two group means are equal (Gagal tolak H0)\n"
     ]
    }
   ],
   "source": [
    "# 5. Tagihan kesehatan laki-laki lebih besar dari perempuan\n",
    "alpha = 0.05\n",
    "\n",
    "femme = np.array(df[df['sex'] == 'female']['charges'])\n",
    "male = np.array(df[df['sex'] == 'male']['charges'])\n",
    "if male.var()!=femme.var():\n",
    "    stat, p = ttest_ind(a = male, b = femme, equal_var=False, alternative='less')\n",
    "\n",
    "# Interpretasi Hasil\n",
    "print('Statistics = %.4f, p-value = %.4f' % (stat, p)) \n",
    "\n",
    "# Pengambilan Keputusan\n",
    "if p > alpha:\n",
    "    print('Two group means are equal (Gagal tolak H0)') \n",
    "else:\n",
    "    print('Two group means are different (Tolak H0)')"
   ]
  }
 ],
 "metadata": {
  "kernelspec": {
   "display_name": "Python 3.9.7 64-bit",
   "language": "python",
   "name": "python3"
  },
  "language_info": {
   "codemirror_mode": {
    "name": "ipython",
    "version": 3
   },
   "file_extension": ".py",
   "mimetype": "text/x-python",
   "name": "python",
   "nbconvert_exporter": "python",
   "pygments_lexer": "ipython3",
   "version": "3.9.7"
  },
  "orig_nbformat": 4,
  "vscode": {
   "interpreter": {
    "hash": "93cb9e833c658aee10cca4235a1cbf589be7ffc76fd70f29ac3d4e34eb30419b"
   }
  }
 },
 "nbformat": 4,
 "nbformat_minor": 2
}
